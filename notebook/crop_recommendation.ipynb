{
  "cells": [
    {
      "cell_type": "markdown",
      "metadata": {
        "colab_type": "text",
        "id": "view-in-github"
      },
      "source": [
        "<a href=\"https://colab.research.google.com/github/sushmithashenoy07/AgriMitra/blob/main/crop_recommendation.ipynb\" target=\"_parent\"><img src=\"https://colab.research.google.com/assets/colab-badge.svg\" alt=\"Open In Colab\"/></a>"
      ]
    },
    {
      "cell_type": "code",
      "execution_count": 1,
      "metadata": {
        "id": "Dnu25AHCros1"
      },
      "outputs": [],
      "source": [
        "import pandas as pd\n",
        "from sklearn.model_selection import train_test_split"
      ]
    },
    {
      "cell_type": "code",
      "execution_count": 2,
      "metadata": {
        "id": "LpoB3ARmsl06"
      },
      "outputs": [],
      "source": [
        "crop_data_file = '../datasets/Crop_recommendation.csv'\n",
        "market_data_file = '../datasets/cropmarketprice.csv'"
      ]
    },
    {
      "cell_type": "code",
      "execution_count": 3,
      "metadata": {
        "id": "ughH_UPqspa4"
      },
      "outputs": [],
      "source": [
        "crop_data = pd.read_csv(crop_data_file)\n",
        "market_data = pd.read_csv(market_data_file)"
      ]
    },
    {
      "cell_type": "code",
      "execution_count": null,
      "metadata": {
        "colab": {
          "base_uri": "https://localhost:8080/"
        },
        "id": "L99YQeDcsuBT",
        "outputId": "a46084db-cc2e-4ca3-f0da-3e97858f035e"
      },
      "outputs": [],
      "source": [
        "print(\"Crop Data Columns:\", crop_data.columns)\n",
        "print(\"Market Data Columns:\", market_data.columns)\n"
      ]
    },
    {
      "cell_type": "code",
      "execution_count": 5,
      "metadata": {
        "id": "3ncBgZqQtVFB"
      },
      "outputs": [],
      "source": [
        "# Merge the two datasets on 'label' (from crop_data) and 'Commodity' (from market_data)\n",
        "merged_data = pd.merge(crop_data, market_data, left_on='label', right_on='Commodity')\n"
      ]
    },
    {
      "cell_type": "code",
      "execution_count": 6,
      "metadata": {
        "id": "oByzkxbptqW0"
      },
      "outputs": [],
      "source": [
        "# Features from crop data: N, P, K, temperature, humidity, ph, rainfall\n",
        "X = merged_data[['N', 'P', 'K', 'temperature', 'humidity', 'ph', 'rainfall']]\n",
        "\n",
        "# Target variable: Modal price from market data\n",
        "y = merged_data['Modal_x0020_Price']"
      ]
    },
    {
      "cell_type": "code",
      "execution_count": null,
      "metadata": {
        "colab": {
          "base_uri": "https://localhost:8080/"
        },
        "id": "g9MDaW7uuXZK",
        "outputId": "c2ffb924-8d53-4642-b2bf-5fa0d4dea6db"
      },
      "outputs": [],
      "source": [
        "print(\"Crop Data Preview:\")\n",
        "crop_data.head()"
      ]
    },
    {
      "cell_type": "code",
      "execution_count": null,
      "metadata": {
        "colab": {
          "base_uri": "https://localhost:8080/"
        },
        "id": "Z9KUx21dubJM",
        "outputId": "18486339-904a-4757-af99-6a83f075e7de"
      },
      "outputs": [],
      "source": [
        "print(\"Market Data Preview:\")\n",
        "market_data.head()"
      ]
    },
    {
      "cell_type": "code",
      "execution_count": 9,
      "metadata": {
        "id": "pirE5oLnu2I3"
      },
      "outputs": [],
      "source": [
        "crop_data['label'] = crop_data['label'].str.strip()\n",
        "market_data['Commodity'] = market_data['Commodity'].str.strip()"
      ]
    },
    {
      "cell_type": "code",
      "execution_count": 10,
      "metadata": {
        "id": "e0Kv50y4u6QH"
      },
      "outputs": [],
      "source": [
        "# Merge the two datasets again\n",
        "merged_data = pd.merge(crop_data, market_data, left_on='label', right_on='Commodity')"
      ]
    },
    {
      "cell_type": "code",
      "execution_count": null,
      "metadata": {},
      "outputs": [],
      "source": [
        "merged_data"
      ]
    },
    {
      "cell_type": "code",
      "execution_count": null,
      "metadata": {
        "colab": {
          "base_uri": "https://localhost:8080/"
        },
        "id": "hzlYXh-au9Sx",
        "outputId": "e2ba7fca-d5f3-4652-d66c-bff6160e0163"
      },
      "outputs": [],
      "source": [
        "# Check if the merged data has rows\n",
        "print(f\"Merged Data Shape: {merged_data.shape}\")\n",
        "print(\"Merged Data Preview:\")\n",
        "print(merged_data.head())"
      ]
    },
    {
      "cell_type": "code",
      "execution_count": null,
      "metadata": {
        "colab": {
          "base_uri": "https://localhost:8080/"
        },
        "id": "sdWC-ZmFu_YZ",
        "outputId": "d7c63bd9-f12c-4f36-ade9-a5394eb85eb0"
      },
      "outputs": [],
      "source": [
        "# Print unique crop names from both datasets\n",
        "print(\"Unique crop names in crop data (label column):\")\n",
        "print(crop_data['label'].unique())\n",
        "\n",
        "print(\"\\nUnique commodities in market data (Commodity column):\")\n",
        "print(market_data['Commodity'].unique())\n"
      ]
    },
    {
      "cell_type": "code",
      "execution_count": 14,
      "metadata": {
        "id": "ymUEgWt3vKZi"
      },
      "outputs": [],
      "source": [
        "crop_to_commodity_mapping = {\n",
        "    'rice': 'Paddy(Dhan)(Common)',\n",
        "    'maize': 'Maize',\n",
        "    'chickpea': 'Kabuli Chana(Chickpeas-White)',\n",
        "    'kidneybeans': 'Rajma',\n",
        "    'pigeonpeas': 'Arhar (Tur/Red Gram)(Whole)',\n",
        "    'mothbeans': 'Moth Beans',\n",
        "    'mungbean': 'Green Gram (Moong)(Whole)',\n",
        "    'blackgram': 'Black Gram (Urd Beans)(Whole)',\n",
        "    'lentil': 'Lentil (Masur)(Whole)',\n",
        "    'pomegranate': 'Pomegranate',\n",
        "    'banana': 'Banana',\n",
        "    'mango': 'Mango',\n",
        "    'grapes': 'Grapes',\n",
        "    'watermelon': 'Water Melon',\n",
        "    'muskmelon': 'Karbuja(Musk Melon)',\n",
        "    'apple': 'Apple',\n",
        "    'orange': 'Orange',\n",
        "    'papaya': 'Papaya',\n",
        "    'coconut': 'Coconut',\n",
        "    'cotton': 'Cotton',\n",
        "    'jute': 'Jute',\n",
        "    'coffee': 'Coffee',\n",
        "    'pigeonpeas': 'Arhar (Tur/Red Gram)(Whole)',\n",
        "    'mustard': 'Mustard',\n",
        "    'soybean': 'Soyabean',\n",
        "    'groundnut': 'Groundnut',\n",
        "    'wheat': 'Wheat',\n",
        "    'millets': 'Millets',\n",
        "    'sugarcane': 'Sugarcane',\n",
        "    'potato': 'Potato',\n",
        "    'onion': 'Onion',\n",
        "    'tomato': 'Tomato',\n",
        "    'brinjal': 'Brinjal',\n",
        "    'cabbage': 'Cabbage',\n",
        "    'cauliflower': 'Cauliflower',\n",
        "    'bhindi': 'Bhindi(Ladies Finger)',\n",
        "    'pumpkin': 'Pumpkin',\n",
        "    'bottle_gourd': 'Bottle gourd',\n",
        "    'ridge_gourd': 'Ridgeguard(Tori)',\n",
        "    'bitter_gourd': 'Bitter gourd',\n",
        "    'chillies': 'Green Chilli',\n",
        "    'garlic': 'Garlic',\n",
        "    'ginger': 'Ginger(Green)',\n",
        "    'turmeric': 'Turmeric',\n",
        "    'spinach': 'Spinach',\n",
        "    'coriander': 'Coriander(Leaves)',\n",
        "    'mint': 'Mint(Pudina)',\n",
        "    'beetroot': 'Beetroot',\n",
        "    'carrot': 'Carrot',\n",
        "    'peas': 'Green Peas',\n",
        "    'guava': 'Guava',\n",
        "    'pineapple': 'Pineapple',\n",
        "    'lime': 'Lime',\n",
        "    'mousambi': 'Mousambi(Sweet Lime)',\n",
        "    'jackfruit': 'Jack Fruit',\n",
        "    'cashew': 'Cashewnuts',\n",
        "    'sapota': 'Chikoos(Sapota)',\n",
        "    'fig': 'Fig(Anjura/Anjeer)',\n",
        "    'amla': 'Amla(Nelli Kai)',\n",
        "    'jamun': 'Jamun(Narale Hannu)',\n",
        "    'custard_apple': 'Custard Apple (Sharifa)',\n",
        "}"
      ]
    },
    {
      "cell_type": "code",
      "execution_count": 15,
      "metadata": {
        "id": "cq85ANGzwGoD"
      },
      "outputs": [],
      "source": [
        "crop_data['label_mapped'] = crop_data['label'].map(crop_to_commodity_mapping)"
      ]
    },
    {
      "cell_type": "code",
      "execution_count": null,
      "metadata": {
        "colab": {
          "base_uri": "https://localhost:8080/"
        },
        "id": "NWSypv3NwJLy",
        "outputId": "9cd606d2-00f7-47b3-dd73-846f5838d874"
      },
      "outputs": [],
      "source": [
        "# Check if there are any unmapped values\n",
        "unmapped = crop_data[crop_data['label_mapped'].isna()]\n",
        "print(f\"Unmapped crops: {unmapped['label'].unique()}\")"
      ]
    },
    {
      "cell_type": "code",
      "execution_count": 17,
      "metadata": {
        "id": "2dWrBKCjwLy2"
      },
      "outputs": [],
      "source": [
        "crop_data = crop_data.dropna(subset=['label_mapped'])"
      ]
    },
    {
      "cell_type": "code",
      "execution_count": 18,
      "metadata": {
        "id": "gmekqrJ2wQpI"
      },
      "outputs": [],
      "source": [
        "# Merge crop data with market data on the mapped labels\n",
        "merged_data = pd.merge(crop_data, market_data, left_on='label_mapped', right_on='Commodity')"
      ]
    },
    {
      "cell_type": "code",
      "execution_count": null,
      "metadata": {
        "colab": {
          "base_uri": "https://localhost:8080/"
        },
        "id": "6SLVK0KzwUsZ",
        "outputId": "2b133b3a-6255-4522-b278-53d819428206"
      },
      "outputs": [],
      "source": [
        "# Check the result of the merge\n",
        "print(f\"Merged Data Shape: {merged_data.shape}\")\n",
        "print(\"Merged Data Preview:\")\n",
        "merged_data.head()"
      ]
    },
    {
      "cell_type": "code",
      "execution_count": 20,
      "metadata": {},
      "outputs": [],
      "source": [
        "# Save the merged data to a new CSV file\n",
        "merged_data.to_csv('../datasets/data.csv', index=False)"
      ]
    },
    {
      "cell_type": "code",
      "execution_count": 21,
      "metadata": {
        "id": "SLJCnOVgwXSr"
      },
      "outputs": [],
      "source": [
        "# Feature selection for machine learning\n",
        "# X = merged_data[['N', 'P', 'K', 'temperature', 'humidity', 'ph', 'rainfall']]  # Features from crop data\n",
        "X = merged_data[['temperature', 'humidity', 'ph', 'rainfall','State','District','Market','Grade','Variety']]  # Features from crop data\n",
        "y = merged_data['Modal_x0020_Price']  # Target: Market price"
      ]
    },
    {
      "cell_type": "code",
      "execution_count": 22,
      "metadata": {
        "id": "5gWguqgYw2rh"
      },
      "outputs": [],
      "source": [
        "# Split data into training and testing sets\n",
        "X_train, X_test, y_train, y_test = train_test_split(X, y, test_size=0.3, random_state=42)"
      ]
    },
    {
      "cell_type": "markdown",
      "metadata": {},
      "source": [
        "# Model Training"
      ]
    },
    {
      "cell_type": "markdown",
      "metadata": {},
      "source": [
        "## Neural Network Model for Crop prediction"
      ]
    },
    {
      "cell_type": "code",
      "execution_count": 23,
      "metadata": {
        "id": "-6xHD2JVcBTm"
      },
      "outputs": [],
      "source": [
        "import tensorflow as tf\n",
        "import pandas as pd\n",
        "from sklearn.model_selection import train_test_split"
      ]
    },
    {
      "cell_type": "code",
      "execution_count": 24,
      "metadata": {},
      "outputs": [],
      "source": [
        "df = pd.read_csv(\"../datasets/data.csv\")"
      ]
    },
    {
      "cell_type": "code",
      "execution_count": null,
      "metadata": {},
      "outputs": [],
      "source": [
        "df.shape"
      ]
    },
    {
      "cell_type": "code",
      "execution_count": null,
      "metadata": {},
      "outputs": [],
      "source": [
        "df.sample(2)"
      ]
    },
    {
      "cell_type": "code",
      "execution_count": 27,
      "metadata": {},
      "outputs": [],
      "source": [
        "input_cols = ['temperature', 'humidity', 'ph', 'rainfall', 'State', 'District', 'Market', 'Grade', 'Variety','N','P','K']\n",
        "target_cols = ['label' , 'Modal_x0020_Price']"
      ]
    },
    {
      "cell_type": "code",
      "execution_count": 28,
      "metadata": {},
      "outputs": [],
      "source": [
        "class CropPricePredictor(tf.keras.Model):\n",
        "    def __init__(self, input_shape,output_shape):\n",
        "        super(CropPricePredictor, self).__init__()\n",
        "        \n",
        "        # self.input_layer = tf.keras.layers.Input(input_shape=input_shape)\n",
        "        \n",
        "        self.dense1 = tf.keras.layers.Dense(256,input_shape=input_shape, activation='leaky_relu')\n",
        "        self.dense2 = tf.keras.layers.Dense(256,activation=\"leaky_relu\")\n",
        "\n",
        "        self.dense3 = tf.keras.layers.Dense(512, activation='relu')\n",
        "        self.dense4 = tf.keras.layers.Dense(512, activation='relu')\n",
        "        \n",
        "        self.dense5 = tf.keras.layers.Dense(1024, activation='relu')\n",
        "        self.dense6 = tf.keras.layers.Dense(1024, activation='relu')\n",
        "        \n",
        "        # crop layers\n",
        "        self.output_crop_1 = tf.keras.layers.Dense(512,activation=\"relu\")\n",
        "        self.output_crop_2 = tf.keras.layers.Dense(256,activation=\"relu\")\n",
        "        self.output_crop_3 = tf.keras.layers.Dense(64,activation=\"relu\")\n",
        "\n",
        "        self.output_crop = tf.keras.layers.Dense(output_shape, activation='softmax', name='crop_output')\n",
        "        \n",
        "        # price layers\n",
        "        self.output_price_1 = tf.keras.layers.Dense(512, activation='relu')\n",
        "        self.output_price_2 = tf.keras.layers.Dense(512, activation='relu')\n",
        "        self.output_price_3 = tf.keras.layers.Dense(128, activation='relu')\n",
        "\n",
        "        self.output_price = tf.keras.layers.Dense(1, name='price_output',activation='linear')\n",
        "        \n",
        "        self.dropout = tf.keras.layers.Dropout(0.2)\n",
        "\n",
        "    def call(self, inputs):        \n",
        "        x = self.dense1(inputs)\n",
        "        x = self.dropout(self.dense2(x))\n",
        "\n",
        "        x = self.dropout(self.dense3(x))\n",
        "        x = self.dropout(self.dense4(x))\n",
        "\n",
        "        x = self.dropout(self.dense5(x))\n",
        "        x = self.dropout(self.dense6(x))\n",
        "\n",
        "        # Predict crop\n",
        "        crop = self.dropout(self.output_crop_1(x))\n",
        "        crop = self.dropout(self.output_crop_2(crop))\n",
        "        crop = self.dropout(self.output_crop_3(crop))\n",
        "\n",
        "        crop_output = self.output_crop(crop)\n",
        "\n",
        "        # Predict price\n",
        "        price = self.dropout(self.output_crop_1(x))\n",
        "        price = self.dropout(self.output_crop_2(price))\n",
        "        price = self.dropout(self.output_crop_3(price))\n",
        "\n",
        "        price_output = self.output_crop(price)\n",
        "\n",
        "        return {'price_output': price_output, 'crop_output': crop_output}"
      ]
    },
    {
      "cell_type": "code",
      "execution_count": 29,
      "metadata": {},
      "outputs": [],
      "source": [
        "model = CropPricePredictor(input_shape=(len(input_cols),),output_shape=df['label'].unique().shape[0])"
      ]
    },
    {
      "cell_type": "code",
      "execution_count": 30,
      "metadata": {},
      "outputs": [],
      "source": [
        "model.build(input_shape=(None, len(input_cols)))"
      ]
    },
    {
      "cell_type": "code",
      "execution_count": null,
      "metadata": {},
      "outputs": [],
      "source": [
        "model.summary()"
      ]
    },
    {
      "cell_type": "code",
      "execution_count": 32,
      "metadata": {},
      "outputs": [],
      "source": [
        "df = df[target_cols + input_cols]"
      ]
    },
    {
      "cell_type": "code",
      "execution_count": null,
      "metadata": {},
      "outputs": [],
      "source": [
        "df.sample(3)"
      ]
    },
    {
      "cell_type": "code",
      "execution_count": 34,
      "metadata": {},
      "outputs": [],
      "source": [
        "from sklearn.preprocessing import LabelEncoder\n",
        "\n",
        "label_encoders = {}\n",
        "\n",
        "for col in ['State', 'District', 'Market', 'Grade', 'Variety','label']:\n",
        "    label_encoders[col] = LabelEncoder()\n",
        "    df[col] = label_encoders[col].fit_transform(df[col].astype(str))\n",
        "    "
      ]
    },
    {
      "cell_type": "code",
      "execution_count": null,
      "metadata": {},
      "outputs": [],
      "source": [
        "df.sample(3)"
      ]
    },
    {
      "cell_type": "code",
      "execution_count": 36,
      "metadata": {},
      "outputs": [],
      "source": [
        "x = df[input_cols]\n",
        "y_crop = tf.keras.utils.to_categorical(df['label'])\n",
        "y_price = df['Modal_x0020_Price']"
      ]
    },
    {
      "cell_type": "code",
      "execution_count": 37,
      "metadata": {},
      "outputs": [],
      "source": [
        "X_train, X_test, y_crop_train, y_crop_test, y_price_train, y_price_test = train_test_split(x, y_crop, y_price, test_size=0.3, random_state=42)"
      ]
    },
    {
      "cell_type": "code",
      "execution_count": 38,
      "metadata": {},
      "outputs": [],
      "source": [
        "early_stopping = tf.keras.callbacks.EarlyStopping(monitor='val_loss', patience=5, restore_best_weights=True)"
      ]
    },
    {
      "cell_type": "code",
      "execution_count": 39,
      "metadata": {},
      "outputs": [],
      "source": [
        "model.compile(optimizer='adam', \n",
        "              loss={'price_output': 'mse', 'crop_output': 'categorical_crossentropy'}, \n",
        "              metrics={'price_output': 'mse', 'crop_output': 'accuracy'})"
      ]
    },
    {
      "cell_type": "code",
      "execution_count": null,
      "metadata": {},
      "outputs": [],
      "source": [
        "model.fit(X_train, {'price_output': y_price_train, 'crop_output': y_crop_train},\n",
        "                    epochs=50, batch_size=64, validation_split=0.2)"
      ]
    },
    {
      "cell_type": "code",
      "execution_count": null,
      "metadata": {},
      "outputs": [],
      "source": [
        "model.evaluate(X_test, {'price_output': y_price_test, 'crop_output': y_crop_test})"
      ]
    },
    {
      "cell_type": "code",
      "execution_count": null,
      "metadata": {},
      "outputs": [],
      "source": [
        "model.save('../models/crop_price_predictor-100', save_format='tf')"
      ]
    },
    {
      "cell_type": "code",
      "execution_count": null,
      "metadata": {},
      "outputs": [],
      "source": [
        "# label\tModal_x0020_Price\ttemperature\t    humidity\tph\t        rainfall\tState\tDistrict\tMarket\tGrade\tVariety\t    N\t    P\t    K\n",
        "# 0\t    7560.0\t            21.377847\t    92.720437\t5.573241\t106.141702\t20\t    12\t        35\t    3\t    23\t        30\t    122\t    197\n",
        "\n",
        "input_values = [21.377847,92.720437,5.573241,106.141702,20,12,35,3,23,30,122,197]\n",
        "input_tensor = tf.constant([input_values], dtype=tf.float32)\n",
        "\n",
        "model(input_tensor)"
      ]
    },
    {
      "cell_type": "markdown",
      "metadata": {},
      "source": [
        "## Using separate models to predict"
      ]
    },
    {
      "cell_type": "code",
      "execution_count": 3,
      "metadata": {},
      "outputs": [],
      "source": [
        "\n",
        "import tensorflow as tf\n",
        "import pandas as pd\n",
        "from sklearn.model_selection import train_test_split\n",
        "from sklearn.preprocessing import LabelEncoder, StandardScaler"
      ]
    },
    {
      "cell_type": "code",
      "execution_count": 4,
      "metadata": {},
      "outputs": [],
      "source": [
        "class CropPredictor(tf.keras.Model):\n",
        "    def __init__(self, input_shape, output_shape):\n",
        "        super(CropPredictor, self).__init__()\n",
        "        self.dense1 = tf.keras.layers.Dense(256,input_shape=input_shape, activation='leaky_relu')\n",
        "        self.dense2 = tf.keras.layers.Dense(256,activation=\"leaky_relu\")\n",
        "\n",
        "        self.dense3 = tf.keras.layers.Dense(512, activation='relu')\n",
        "        self.dense4 = tf.keras.layers.Dense(512, activation='relu')\n",
        "        \n",
        "        self.dense5 = tf.keras.layers.Dense(1024, activation='relu')\n",
        "        self.dense6 = tf.keras.layers.Dense(1024, activation='relu')\n",
        "\n",
        "        self.output_1 = tf.keras.layers.Dense(128,activation=\"relu\")\n",
        "        self.output_2 = tf.keras.layers.Dense(64,activation=\"relu\")\n",
        "        self.output_layer = tf.keras.layers.Dense(output_shape, activation='softmax')\n",
        "\n",
        "        self.dropout = tf.keras.layers.Dropout(0.2)\n",
        "\n",
        "    def call(self, x):\n",
        "        x = self.dense1(x)\n",
        "        x = self.dropout(self.dense2(x))\n",
        "\n",
        "        x = self.dropout(self.dense3(x))\n",
        "        x = self.dropout(self.dense4(x))\n",
        "\n",
        "        x = self.dropout(self.dense5(x))\n",
        "        x = self.dropout(self.dense6(x))\n",
        "\n",
        "        x = self.dropout(self.output_1(x))\n",
        "        x = self.dropout(self.output_2(x))\n",
        "\n",
        "        return self.output_layer(x)"
      ]
    },
    {
      "cell_type": "code",
      "execution_count": 5,
      "metadata": {},
      "outputs": [],
      "source": [
        "class PricePredictor(tf.keras.Model):\n",
        "    def __init__(self, input_shape):\n",
        "        super(PricePredictor, self).__init__()\n",
        "        self.dense1 = tf.keras.layers.Dense(128,input_shape=input_shape, activation='leaky_relu')\n",
        "        self.dense2 = tf.keras.layers.Dense(256,activation=\"relu\")\n",
        "\n",
        "        self.dense3 = tf.keras.layers.Dense(512, activation='relu')\n",
        "        self.dense4 = tf.keras.layers.Dense(512, activation='relu')\n",
        "        \n",
        "        # self.dense5 = tf.keras.layers.Dense(1024, activation='relu')\n",
        "        # self.dense6 = tf.keras.layers.Dense(1024, activation='relu')\n",
        "\n",
        "        self.output_1 = tf.keras.layers.Dense(128,activation=\"relu\")\n",
        "        self.output_2 = tf.keras.layers.Dense(32,activation=\"relu\")\n",
        "        self.output_layer = tf.keras.layers.Dense(1, activation='linear')\n",
        "\n",
        "        self.dropout = tf.keras.layers.Dropout(0.2)\n",
        "\n",
        "    def call(self, x):\n",
        "        x = self.dense1(x)\n",
        "        x = self.dropout(self.dense2(x))\n",
        "\n",
        "        x = self.dropout(self.dense3(x))\n",
        "        x = self.dropout(self.dense4(x))\n",
        "\n",
        "        # x = self.dropout(self.dense5(x))\n",
        "        # x = self.dropout(self.dense6(x))\n",
        "\n",
        "        x = self.dropout(self.output_1(x))\n",
        "        x = self.dropout(self.output_2(x))\n",
        "\n",
        "        return self.output_layer(x)"
      ]
    },
    {
      "cell_type": "code",
      "execution_count": 6,
      "metadata": {},
      "outputs": [],
      "source": [
        "input_cols = ['temperature', 'humidity', 'ph', 'rainfall', 'State', 'District', 'Market', 'Grade', 'Variety','N','P','K']\n",
        "target_cols = ['label' , 'Modal_x0020_Price']"
      ]
    },
    {
      "cell_type": "code",
      "execution_count": null,
      "metadata": {},
      "outputs": [],
      "source": [
        "df = pd.read_csv(\"../datasets/data.csv\")\n",
        "\n",
        "df = df[target_cols + input_cols]\n",
        "df.sample(2)"
      ]
    },
    {
      "cell_type": "code",
      "execution_count": 8,
      "metadata": {},
      "outputs": [],
      "source": [
        "from sklearn.preprocessing import LabelEncoder\n",
        "\n",
        "label_encoders = {}\n",
        "\n",
        "for col in ['State', 'District', 'Market', 'Grade', 'Variety','label']:\n",
        "    label_encoders[col] = LabelEncoder()\n",
        "    df[col] = label_encoders[col].fit_transform(df[col].astype(str))"
      ]
    },
    {
      "cell_type": "code",
      "execution_count": 9,
      "metadata": {},
      "outputs": [],
      "source": [
        "import pickle\n",
        "with open('../models/label_encoders.pkl', 'wb') as f:\n",
        "    pickle.dump(label_encoders, f)"
      ]
    },
    {
      "cell_type": "code",
      "execution_count": 11,
      "metadata": {},
      "outputs": [],
      "source": [
        "x = df[input_cols]\n",
        "y_crop = tf.keras.utils.to_categorical(df['label'])\n",
        "y_price = df['Modal_x0020_Price']"
      ]
    },
    {
      "cell_type": "code",
      "execution_count": 12,
      "metadata": {},
      "outputs": [],
      "source": [
        "crop_model = CropPredictor(input_shape=(len(input_cols),), output_shape=df['label'].unique().shape[0])\n",
        "price_model = PricePredictor(input_shape=(len(input_cols)+1,))"
      ]
    },
    {
      "cell_type": "code",
      "execution_count": 13,
      "metadata": {},
      "outputs": [],
      "source": [
        "crop_model.build(input_shape=(None, len(input_cols)))\n",
        "price_model.build(input_shape=(None, len(input_cols)+1))"
      ]
    },
    {
      "cell_type": "code",
      "execution_count": null,
      "metadata": {},
      "outputs": [],
      "source": [
        "crop_model.summary()"
      ]
    },
    {
      "cell_type": "code",
      "execution_count": null,
      "metadata": {},
      "outputs": [],
      "source": [
        "price_model.summary()"
      ]
    },
    {
      "cell_type": "code",
      "execution_count": 16,
      "metadata": {},
      "outputs": [],
      "source": [
        "x_crop_train, x_crop_test, y_crop_train, y_crop_test = train_test_split(x, y_crop, test_size=0.3, random_state=42)\n",
        "x_price_train, x_price_test, y_price_train, y_price_test = train_test_split(df[input_cols + [\"label\"]], y_price, test_size=0.3, random_state=42)"
      ]
    },
    {
      "cell_type": "code",
      "execution_count": 68,
      "metadata": {},
      "outputs": [],
      "source": [
        "crop_model.compile(optimizer='adam', loss='categorical_crossentropy', metrics=['accuracy'])\n",
        "price_model.compile(optimizer='adam', loss='mse', metrics=['mse'])"
      ]
    },
    {
      "cell_type": "code",
      "execution_count": 69,
      "metadata": {},
      "outputs": [],
      "source": [
        "early_stopping_crop = tf.keras.callbacks.EarlyStopping(monitor='val_loss', patience=5, restore_best_weights=True)\n",
        "early_stopping_price = tf.keras.callbacks.EarlyStopping(monitor='mse', patience=5, restore_best_weights=True)"
      ]
    },
    {
      "cell_type": "code",
      "execution_count": null,
      "metadata": {},
      "outputs": [],
      "source": [
        "crop_model.fit(x_crop_train, y_crop_train, epochs=100, batch_size=64, validation_split=0.2, callbacks=[early_stopping_crop])"
      ]
    },
    {
      "cell_type": "code",
      "execution_count": null,
      "metadata": {},
      "outputs": [],
      "source": [
        "price_model.fit(x_price_train, y_price_train, epochs=100, batch_size=64, validation_split=0.2, callbacks=[early_stopping_price])"
      ]
    },
    {
      "cell_type": "code",
      "execution_count": null,
      "metadata": {},
      "outputs": [],
      "source": [
        "crop_model.evaluate(x_crop_test, y_crop_test)\n",
        "price_model.evaluate(x_price_test, y_price_test)"
      ]
    },
    {
      "cell_type": "code",
      "execution_count": null,
      "metadata": {},
      "outputs": [],
      "source": [
        "crop_model.save('../models/crop_predictor-100', save_format='tf')\n",
        "price_model.save('../models/price_predictor-100', save_format='tf')"
      ]
    },
    {
      "cell_type": "code",
      "execution_count": null,
      "metadata": {},
      "outputs": [],
      "source": [
        "from sklearn.ensemble import RandomForestRegressor\n",
        "from sklearn.metrics import mean_squared_error\n",
        "\n",
        "x_train, x_test, y_train, y_test = train_test_split(df[input_cols], df['Modal_x0020_Price'], test_size=0.3, random_state=42)\n",
        "\n",
        "booster = RandomForestRegressor(n_estimators=100, random_state=42)\n",
        "booster.fit(x_price_train, y_price_train)\n",
        "\n",
        "y_pred = booster.predict(x_price_test)\n",
        "mse = mean_squared_error(y_price_test, y_pred)\n",
        "print(f\"MSE: {mse}\")"
      ]
    },
    {
      "cell_type": "code",
      "execution_count": 80,
      "metadata": {},
      "outputs": [],
      "source": [
        "import pickle\n",
        "\n",
        "with open('../models/price_predictor.pkl', 'wb') as f:\n",
        "    pickle.dump(booster, f)"
      ]
    }
  ],
  "metadata": {
    "colab": {
      "include_colab_link": true,
      "provenance": []
    },
    "kernelspec": {
      "display_name": "tensor",
      "language": "python",
      "name": "python3"
    },
    "language_info": {
      "codemirror_mode": {
        "name": "ipython",
        "version": 3
      },
      "file_extension": ".py",
      "mimetype": "text/x-python",
      "name": "python",
      "nbconvert_exporter": "python",
      "pygments_lexer": "ipython3",
      "version": "3.9.19"
    }
  },
  "nbformat": 4,
  "nbformat_minor": 0
}
